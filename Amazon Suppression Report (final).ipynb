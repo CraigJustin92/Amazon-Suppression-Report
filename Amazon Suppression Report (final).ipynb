{
 "cells": [
  {
   "cell_type": "markdown",
   "metadata": {},
   "source": [
    "# Imports"
   ]
  },
  {
   "cell_type": "code",
   "execution_count": 56,
   "metadata": {},
   "outputs": [],
   "source": [
    "# For data manipulation and analysis\n",
    "import pandas as pd  \n",
    "\n",
    "# For creating graphical user interfaces\n",
    "import tkinter as tk  \n",
    "\n",
    "# For displaying message boxes\n",
    "from tkinter import messagebox  \n",
    "\n",
    "# For interacting with the operating system\n",
    "import os  \n",
    "\n",
    "# For working with dates and times\n",
    "from datetime import datetime  \n",
    "\n",
    "# For calendar-related functions and operations\n",
    "import calendar  \n"
   ]
  },
  {
   "cell_type": "markdown",
   "metadata": {},
   "source": [
    "## Select the month or week you'd like to capture in the report\n",
    "A window will pop up to select the desired report after running the full script."
   ]
  },
  {
   "cell_type": "code",
   "execution_count": 57,
   "metadata": {},
   "outputs": [],
   "source": [
    "\n",
    "# (week number, year) \n",
    "WeekNumber = (24,2024)\n",
    "\n",
    "# (month number, year) \n",
    "MonthYear = (6,2024)"
   ]
  },
  {
   "cell_type": "markdown",
   "metadata": {},
   "source": [
    "# Gathering Files\n",
    "\n",
    "All suppression files downloaded from Vendor Central should be stored in the same folder.\n",
    "\n",
    "Example of a suppression file name: amazon_df_suppression_bulk_2024-03-26_12_23_13_UTC_dataset_0\n",
    "\n",
    "The file name can be used to extract the date, which can then be stored in a column. This will allow aggregation by time frame."
   ]
  },
  {
   "cell_type": "code",
   "execution_count": 58,
   "metadata": {},
   "outputs": [
    {
     "name": "stdout",
     "output_type": "stream",
     "text": [
      "86\n"
     ]
    }
   ],
   "source": [
    "# creating folder path\n",
    "folder_path = \"C:/Users/CraigJustin/Documents/Amazon Suppressions\"\n",
    "\n",
    "# Create a list of all file names in the folder, excluding 'desktop.ini'\n",
    "files = [f for f in os.listdir(folder_path) if f != 'desktop.ini']\n",
    "\n",
    "# Create a list of absolute file paths for each file\n",
    "supp_path_list = [os.path.join(folder_path, file) for file in files]\n",
    "\n",
    "# Create a list of DataFrames for each file in the folder, assigning the file name as a new column 'Date'\n",
    "df_list = [pd.read_csv(file).assign(Date=file) for file in supp_path_list]\n",
    "\n",
    "# Display the number of files captured in the folder\n",
    "print(len(df_list))\n"
   ]
  },
  {
   "cell_type": "code",
   "execution_count": 59,
   "metadata": {},
   "outputs": [
    {
     "data": {
      "text/plain": [
       "(2602830, 8)"
      ]
     },
     "execution_count": 59,
     "metadata": {},
     "output_type": "execute_result"
    }
   ],
   "source": [
    "# Create a consolidated DataFrame by concatenating all DataFrames in df_list along the rows\n",
    "full_df = pd.concat(df_list, axis=0)\n",
    "\n",
    "# Display the number of rows and columns in the consolidated DataFrame\n",
    "full_df.shape\n"
   ]
  },
  {
   "cell_type": "markdown",
   "metadata": {},
   "source": [
    "# Cleaning Sheet"
   ]
  },
  {
   "cell_type": "code",
   "execution_count": 60,
   "metadata": {},
   "outputs": [],
   "source": [
    "# cleaning sku column\n",
    "full_df['SKU'] = full_df['SKU'].str.replace('=\"', '').str.replace('\"', '')\n",
    "\n",
    "# creating a subset dataframe\n",
    "full_df = full_df[['SKU','ASIN','Suppression reason','Date']]\n",
    "\n",
    "# extracting date from file name\n",
    "full_df['Date'] = full_df['Date'].str.replace(folder_path, '')\n",
    "full_df['Date'] = full_df['Date'].str.replace('/', '')\n",
    "full_df['Date'] = full_df['Date'].str.replace(\"\\\\\", \"\")\n",
    "full_df['Date'] = full_df['Date'].str.replace('amazon_df_suppression_bulk_', '')\n",
    "full_df['Date'] = full_df['Date'].str.split('_').str[0]\n",
    "\n",
    "# reformatting date column to mm-dd-yyyy and sorting by date asc\n",
    "full_df['Date'] = pd.to_datetime(full_df['Date'])\n",
    "full_df['Date'] = full_df['Date'].dt.strftime('%m-%d-%Y')\n",
    "full_df = full_df.sort_values(['Date'])\n",
    "\n",
    "# resetting the index\n",
    "clean_df = full_df.reset_index(drop=True)\n"
   ]
  },
  {
   "cell_type": "code",
   "execution_count": 61,
   "metadata": {},
   "outputs": [],
   "source": [
    "# creating a month, month name, year and week number column\n",
    "clean_df['Month Number'] = pd.to_datetime(clean_df['Date']).dt.month\n",
    "clean_df['Year'] = pd.to_datetime(clean_df['Date']).dt.year\n",
    "clean_df['Week Number'] = pd.to_datetime(clean_df['Date']).dt.isocalendar().week"
   ]
  },
  {
   "cell_type": "code",
   "execution_count": 62,
   "metadata": {},
   "outputs": [],
   "source": [
    "# creating a modified data frame to drop duplicates as folder may have multiple files from the same day\n",
    "modified_df = clean_df.drop_duplicates()"
   ]
  },
  {
   "cell_type": "code",
   "execution_count": 63,
   "metadata": {},
   "outputs": [],
   "source": [
    "# filtering to given week and year, and trimming to show relavent columns, and analyzing count for each day\n",
    "modified_df_week = modified_df[(modified_df['Week Number']==WeekNumber[0]) & (modified_df['Year']==MonthYear[1])]\n",
    "modified_df_week = modified_df_week[['SKU','ASIN','Date']].drop_duplicates()\n",
    "\n",
    "# filtering to given month and year, and trimming to show relavent columns, and analyzing count for each day\n",
    "modified_df_monthyear = modified_df[(modified_df['Month Number']==MonthYear[0]) & (modified_df['Year']==MonthYear[1])]\n",
    "modified_df_monthyear = modified_df_monthyear[['SKU','ASIN','Date']].drop_duplicates()"
   ]
  },
  {
   "cell_type": "code",
   "execution_count": 64,
   "metadata": {},
   "outputs": [],
   "source": [
    "# creating a weekly_count data frame to count how many days an asin appears suppressed for the week, then creating a suppression rate column based on the count.\n",
    "weekly_count = modified_df_week.groupby('ASIN').count().reset_index().sort_values('SKU')\n",
    "weekly_count['Suppression Rate'] = weekly_count['SKU']/weekly_count['SKU'].max()\n",
    "\n",
    "# creating a monthly_count data frame to count how many days an asin appears suppressed for the month, then creating a suppression rate column based on the count.\n",
    "monthly_count = modified_df_monthyear.groupby('ASIN').count().reset_index().sort_values('SKU')\n",
    "monthly_count['Suppression Rate'] = monthly_count['SKU']/monthly_count['SKU'].max()"
   ]
  },
  {
   "cell_type": "markdown",
   "metadata": {},
   "source": [
    "## Read Vendor Catalog\n",
    "\n",
    "The sheet that I'm reading in represents all active SKUs on Amazon. This helps to narrow down the report to relevant SKUs in the current catalog."
   ]
  },
  {
   "cell_type": "code",
   "execution_count": 65,
   "metadata": {},
   "outputs": [],
   "source": [
    "# pulling in monk report F521 for current active items (must download first)\n",
    "filepath = r'vendor_catalog.txt'\n",
    "vendor_df = pd.read_csv(filepath)\n",
    "\n",
    "vendor_df.columns = ['Key', 'Vendor SKU', 'Customer SKU', 'Description']\n",
    "vendor_df = vendor_df[['Vendor SKU', 'Customer SKU']]"
   ]
  },
  {
   "cell_type": "code",
   "execution_count": 66,
   "metadata": {},
   "outputs": [],
   "source": [
    "# merging fast codes data frame with weekly count data frame so each active sku has a suppression rate \n",
    "active_skus_suppress_rate_weekly = vendor_df.merge(weekly_count,how='left', left_on='Customer SKU', right_on='ASIN')\n",
    "active_skus_suppress_rate_monthly = vendor_df.merge(monthly_count,how='left', left_on='Customer SKU', right_on='ASIN')"
   ]
  },
  {
   "cell_type": "code",
   "execution_count": 67,
   "metadata": {},
   "outputs": [],
   "source": [
    "# removing irrelavant columns, filling n/a values with 0 (as n/a would represent that they weren't suppressed for that week)\n",
    "active_skus_suppress_rate_weekly = active_skus_suppress_rate_weekly[['Vendor SKU','Customer SKU','Suppression Rate']]\n",
    "active_skus_suppress_rate_weekly['Suppression Rate'] = active_skus_suppress_rate_weekly['Suppression Rate'].fillna(0)\n",
    "\n",
    "# removing irrelavant columns, filling n/a values with 0 (as n/a would represent that they weren't suppressed for that month)\n",
    "active_skus_suppress_rate_monthly = active_skus_suppress_rate_monthly[['Vendor SKU','Customer SKU','Suppression Rate']]\n",
    "active_skus_suppress_rate_monthly['Suppression Rate'] = active_skus_suppress_rate_monthly['Suppression Rate'].fillna(0)"
   ]
  },
  {
   "cell_type": "markdown",
   "metadata": {},
   "source": [
    "# Exporting Report"
   ]
  },
  {
   "cell_type": "code",
   "execution_count": 68,
   "metadata": {},
   "outputs": [],
   "source": [
    "# To Select which report to download (monthly or weekly)\n",
    "file_path = \"C:/Users/CraigJustin/Documents/\"\n",
    "\n",
    "def export_weekly_report():\n",
    "    try:\n",
    "        now = datetime.now().strftime('%Y-%m-%d_%H-%M-%S')\n",
    "        filename = file_path + \"amazon_suppression_weekly_\" + str(WeekNumber[0]) + \"-\" + str(WeekNumber[1]) +  \"-\" + now + \".csv\"\n",
    "        active_skus_suppress_rate_weekly.to_csv(filename, index=False)\n",
    "        messagebox.showinfo(\"Success\", f\"Weekly report saved as {filename}\")\n",
    "    except Exception as e:\n",
    "        messagebox.showerror(\"Error\", f\"Failed to save weekly report: {str(e)}\")\n",
    "    root.destroy()\n",
    "\n",
    "def export_monthly_report():\n",
    "    try:\n",
    "        now = datetime.now().strftime('%Y-%m-%d_%H-%M-%S')\n",
    "        filename = file_path + \"amazon_suppression_monthly_\" + calendar.month_name[MonthYear[0]] + \"-\" + str(MonthYear[1]) + \"-\" + now + \".csv\"\n",
    "        active_skus_suppress_rate_monthly.to_csv(filename, index=False)\n",
    "        messagebox.showinfo(\"Success\", f\"Monthly report saved as {filename}\")\n",
    "    except Exception as e:\n",
    "        messagebox.showerror(\"Error\", f\"Failed to save monthly report: {str(e)}\")\n",
    "    root.destroy()\n",
    "\n",
    "# Tkinter GUI setup\n",
    "root = tk.Tk()\n",
    "root.title(\"Report Downloader\")\n",
    "root.geometry(\"400x200\")  # Set the window size to 400x200 pixels\n",
    "\n",
    "# Create and place buttons\n",
    "weekly_button = tk.Button(root, text=\"Download Weekly Report\", command=export_weekly_report)\n",
    "weekly_button.pack(pady=10)\n",
    "\n",
    "monthly_button = tk.Button(root, text=\"Download Monthly Report\", command=export_monthly_report)\n",
    "monthly_button.pack(pady=10)\n",
    "\n",
    "# Run the Tkinter main loop\n",
    "root.mainloop()\n"
   ]
  }
 ],
 "metadata": {
  "kernelspec": {
   "display_name": "Python 3",
   "language": "python",
   "name": "python3"
  },
  "language_info": {
   "codemirror_mode": {
    "name": "ipython",
    "version": 3
   },
   "file_extension": ".py",
   "mimetype": "text/x-python",
   "name": "python",
   "nbconvert_exporter": "python",
   "pygments_lexer": "ipython3",
   "version": "3.12.3"
  }
 },
 "nbformat": 4,
 "nbformat_minor": 2
}
